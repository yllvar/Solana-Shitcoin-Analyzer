{
 "cells": [
  {
   "cell_type": "markdown",
   "id": "d8b24407",
   "metadata": {},
   "source": [
    "# Seach For Solana Shitcoin from DexScreener"
   ]
  },
  {
   "cell_type": "code",
   "execution_count": 5,
   "id": "06e671a9",
   "metadata": {},
   "outputs": [],
   "source": [
    "import requests\n",
    "import pandas as pd\n",
    "\n",
    "def search_pairs(query, chain_id='solana'):\n",
    "    api_url = f\"https://api.dexscreener.io/latest/dex/search?q={query}&chainId={chain_id}\"\n",
    "\n",
    "    try:\n",
    "        response = requests.get(api_url)\n",
    "        response.raise_for_status()  # Check for HTTP errors\n",
    "\n",
    "        data = response.json()\n",
    "        return data\n",
    "    except requests.exceptions.HTTPError as e:\n",
    "        print(f\"HTTP Error during API request: {e}\")\n",
    "    except Exception as e:\n",
    "        print(f\"Error during API request: {e}\")\n",
    "\n",
    "    return None"
   ]
  },
  {
   "cell_type": "markdown",
   "id": "ee6ca62d",
   "metadata": {},
   "source": [
    "### Replace 'search_query' with your based and paired token name"
   ]
  },
  {
   "cell_type": "code",
   "execution_count": 6,
   "id": "ba4011d4",
   "metadata": {},
   "outputs": [],
   "source": [
    "search_query = \"CZECH SOL\""
   ]
  },
  {
   "cell_type": "markdown",
   "id": "906a8541",
   "metadata": {},
   "source": [
    "### Call the function to search for pairs"
   ]
  },
  {
   "cell_type": "code",
   "execution_count": 7,
   "id": "3be528ba",
   "metadata": {},
   "outputs": [],
   "source": [
    "pairs_search_result = search_pairs(search_query)"
   ]
  },
  {
   "cell_type": "markdown",
   "id": "0d4f50cb",
   "metadata": {},
   "source": [
    "### Extract pairs data"
   ]
  },
  {
   "cell_type": "code",
   "execution_count": 8,
   "id": "462a25c5",
   "metadata": {},
   "outputs": [],
   "source": [
    "pairs_data = pairs_search_result.get('pairs', [])"
   ]
  },
  {
   "cell_type": "markdown",
   "id": "8db78798",
   "metadata": {},
   "source": [
    "### Convert to DataFrame"
   ]
  },
  {
   "cell_type": "code",
   "execution_count": 9,
   "id": "f897213f",
   "metadata": {},
   "outputs": [],
   "source": [
    "df = pd.DataFrame(pairs_data)"
   ]
  },
  {
   "cell_type": "markdown",
   "id": "f2882e6b",
   "metadata": {},
   "source": [
    "### Extract pairs data"
   ]
  },
  {
   "cell_type": "code",
   "execution_count": 10,
   "id": "1eb1ec7e",
   "metadata": {},
   "outputs": [],
   "source": [
    "pairs_data = pairs_search_result.get('pairs', [])"
   ]
  },
  {
   "cell_type": "markdown",
   "id": "72fb6cf3",
   "metadata": {},
   "source": [
    "### Display DataFrame with a better visual style Print relevant information from the result"
   ]
  },
  {
   "cell_type": "code",
   "execution_count": 5,
   "id": "fe99d6bc",
   "metadata": {
    "scrolled": false
   },
   "outputs": [
    {
     "name": "stdout",
     "output_type": "stream",
     "text": [
      "Search Result for Pairs:\n",
      "Token Symbol: None\n",
      "Date Created: None\n",
      "Market Cap: None\n",
      "Liquidity: {'usd': 1916747.72, 'base': 4260.9251, 'quote': 5515.2085}\n",
      "------\n",
      "Token Symbol: None\n",
      "Date Created: None\n",
      "Market Cap: None\n",
      "Liquidity: {'usd': 31903.42, 'base': 9216698, 'quote': 87.7086}\n",
      "------\n",
      "Token Symbol: None\n",
      "Date Created: None\n",
      "Market Cap: None\n",
      "Liquidity: {'usd': 31.65, 'base': 357403, 'quote': 0.1743}\n",
      "------\n",
      "Token Symbol: None\n",
      "Date Created: None\n",
      "Market Cap: None\n",
      "Liquidity: {'usd': 3304.25, 'base': 723455596, 'quote': 9.08327}\n",
      "------\n",
      "Token Symbol: None\n",
      "Date Created: None\n",
      "Market Cap: None\n",
      "Liquidity: {'usd': 24.43, 'base': 167579, 'quote': 0.1345}\n",
      "------\n",
      "Token Symbol: None\n",
      "Date Created: None\n",
      "Market Cap: None\n",
      "Liquidity: {'usd': 341681.54, 'base': 15413, 'quote': 925.6288}\n",
      "------\n",
      "Token Symbol: None\n",
      "Date Created: None\n",
      "Market Cap: None\n",
      "Liquidity: {'usd': 241190.07, 'base': 18097383, 'quote': 662.5043}\n",
      "------\n",
      "Token Symbol: None\n",
      "Date Created: None\n",
      "Market Cap: None\n",
      "Liquidity: {'usd': 159077.9, 'base': 1873406, 'quote': 436.8278}\n",
      "------\n",
      "Token Symbol: None\n",
      "Date Created: None\n",
      "Market Cap: None\n",
      "Liquidity: {'usd': 219917.79, 'base': 23333447, 'quote': 604.02441}\n",
      "------\n",
      "Token Symbol: None\n",
      "Date Created: None\n",
      "Market Cap: None\n",
      "Liquidity: {'usd': 135866.54, 'base': 29656462, 'quote': 369.7074}\n",
      "------\n",
      "Token Symbol: None\n",
      "Date Created: None\n",
      "Market Cap: None\n",
      "Liquidity: {'usd': 306111.48, 'base': 27724030, 'quote': 840.9206}\n",
      "------\n",
      "Token Symbol: None\n",
      "Date Created: None\n",
      "Market Cap: None\n",
      "Liquidity: {'usd': 365510.56, 'base': 219122199676, 'quote': 1003.4872}\n",
      "------\n",
      "Token Symbol: None\n",
      "Date Created: None\n",
      "Market Cap: None\n",
      "Liquidity: {'usd': 1152957.69, 'base': 389314128, 'quote': 3166.3378}\n",
      "------\n",
      "Token Symbol: None\n",
      "Date Created: None\n",
      "Market Cap: None\n",
      "Liquidity: {'usd': 9210540.46, 'base': 41628891594, 'quote': 25258}\n",
      "------\n",
      "Token Symbol: None\n",
      "Date Created: None\n",
      "Market Cap: None\n",
      "Liquidity: {'usd': 52804796.32, 'base': 2772748501, 'quote': 144807}\n",
      "------\n",
      "Token Symbol: None\n",
      "Date Created: None\n",
      "Market Cap: None\n",
      "Liquidity: {'usd': 1655431.09, 'base': 82318584, 'quote': 4837.8888}\n",
      "------\n",
      "Token Symbol: None\n",
      "Date Created: None\n",
      "Market Cap: None\n",
      "Liquidity: {'usd': 630107.9, 'base': 10586819, 'quote': 1728.03596}\n",
      "------\n",
      "Token Symbol: None\n",
      "Date Created: None\n",
      "Market Cap: None\n",
      "Liquidity: {'usd': 717462.12, 'base': 2654344327110, 'quote': 1967.9451}\n",
      "------\n",
      "Token Symbol: None\n",
      "Date Created: None\n",
      "Market Cap: None\n",
      "Liquidity: {'usd': 2196909.53, 'base': 843889, 'quote': 6018.8823}\n",
      "------\n",
      "Token Symbol: None\n",
      "Date Created: None\n",
      "Market Cap: None\n",
      "Liquidity: {'usd': 110659.26, 'base': 5188997, 'quote': 336.7034}\n",
      "------\n",
      "Token Symbol: None\n",
      "Date Created: None\n",
      "Market Cap: None\n",
      "Liquidity: {'usd': 150025.78, 'base': 196495734, 'quote': 412.4476}\n",
      "------\n",
      "Token Symbol: None\n",
      "Date Created: None\n",
      "Market Cap: None\n",
      "Liquidity: {'usd': 116516.31, 'base': 29184266, 'quote': 320.3129}\n",
      "------\n",
      "Token Symbol: None\n",
      "Date Created: None\n",
      "Market Cap: None\n",
      "Liquidity: {'usd': 4124529.05, 'base': 28975031431, 'quote': 11146}\n",
      "------\n",
      "Token Symbol: None\n",
      "Date Created: None\n",
      "Market Cap: None\n",
      "Liquidity: {'usd': 290532.88, 'base': 1252087, 'quote': 796.7383}\n",
      "------\n",
      "Token Symbol: None\n",
      "Date Created: None\n",
      "Market Cap: None\n",
      "Liquidity: {'usd': 182762.97, 'base': 1975030, 'quote': 501.9267}\n",
      "------\n",
      "Token Symbol: None\n",
      "Date Created: None\n",
      "Market Cap: None\n",
      "Liquidity: {'usd': 503559.43, 'base': 21526592374, 'quote': 1384.4087}\n",
      "------\n",
      "Token Symbol: None\n",
      "Date Created: None\n",
      "Market Cap: None\n",
      "Liquidity: {'usd': 2380085.77, 'base': 3029347, 'quote': 6534.1599}\n",
      "------\n",
      "Token Symbol: None\n",
      "Date Created: None\n",
      "Market Cap: None\n",
      "Liquidity: {'usd': 200126.6, 'base': 12472474, 'quote': 550.03004}\n",
      "------\n",
      "Token Symbol: None\n",
      "Date Created: None\n",
      "Market Cap: None\n",
      "Liquidity: {'usd': 216341.13, 'base': 44896773, 'quote': 594.6872}\n",
      "------\n",
      "Token Symbol: None\n",
      "Date Created: None\n",
      "Market Cap: None\n",
      "Liquidity: {'usd': 1657838.53, 'base': 4389017, 'quote': 4542.525}\n",
      "------\n"
     ]
    }
   ],
   "source": [
    "display(df.style.set_table_styles([\n",
    "    {'selector': 'thead', 'props': [('background', '#606060'), ('color', 'white')]},\n",
    "    {'selector': 'tbody', 'props': [('color', '#404040')]},\n",
    "    {'selector': 'th', 'props': [('background', '#A9A9A9'), ('color', 'white')]},\n",
    "    {'selector': 'tr:hover', 'props': [('background-color', '#f5f5f5')]}\n",
    "]))"
   ]
  },
  {
   "cell_type": "code",
   "execution_count": null,
   "id": "08fefebe",
   "metadata": {},
   "outputs": [],
   "source": []
  }
 ],
 "metadata": {
  "kernelspec": {
   "display_name": "Python 3 (ipykernel)",
   "language": "python",
   "name": "python3"
  },
  "language_info": {
   "codemirror_mode": {
    "name": "ipython",
    "version": 3
   },
   "file_extension": ".py",
   "mimetype": "text/x-python",
   "name": "python",
   "nbconvert_exporter": "python",
   "pygments_lexer": "ipython3",
   "version": "3.11.5"
  }
 },
 "nbformat": 4,
 "nbformat_minor": 5
}
