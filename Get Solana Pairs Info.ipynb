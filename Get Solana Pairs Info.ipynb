{
 "cells": [
  {
   "cell_type": "markdown",
   "id": "7c55b790",
   "metadata": {},
   "source": [
    "# Get Solana Shitcoin Technical Data\n",
    "## Pair Info, Liquidity, Volume and Date Created"
   ]
  },
  {
   "cell_type": "code",
   "execution_count": 1,
   "id": "bf06abc7",
   "metadata": {},
   "outputs": [],
   "source": [
    "import requests\n",
    "\n",
    "def get_pairs(chain_id, pair_addresses):\n",
    "    api_url = f\"https://api.dexscreener.com/latest/dex/pairs/{chain_id}/{pair_addresses}\"\n",
    "\n",
    "    try:\n",
    "        response = requests.get(api_url)\n",
    "        response.raise_for_status()  # Check for HTTP errors\n",
    "\n",
    "        data = response.json()\n",
    "        return data\n",
    "    except requests.exceptions.RequestException as e:\n",
    "        print(f\"Error during API request: {e}\")\n",
    "        return None"
   ]
  },
  {
   "cell_type": "markdown",
   "id": "3b5d60b5",
   "metadata": {},
   "source": [
    "### Replace 'your_chain_id' and 'your_pair_addresses' with the actual values"
   ]
  },
  {
   "cell_type": "code",
   "execution_count": 2,
   "id": "e7e01731",
   "metadata": {},
   "outputs": [],
   "source": [
    "solana_chain_id = \"solana\"\n",
    "token_address = \"3qtVaSaeHXGEnmxjsPFMttJ1RwXZ3FmoNjSQj1FK4SqH\""
   ]
  },
  {
   "cell_type": "markdown",
   "id": "842084dc",
   "metadata": {},
   "source": [
    "### Call the function to get pairs for the Solana chain and specific token address"
   ]
  },
  {
   "cell_type": "code",
   "execution_count": 3,
   "id": "63ea0b89",
   "metadata": {},
   "outputs": [],
   "source": [
    "pairs_data = get_pairs(solana_chain_id, token_address)"
   ]
  },
  {
   "cell_type": "markdown",
   "id": "8883e979",
   "metadata": {},
   "source": [
    "### Print selected information in a vertical format"
   ]
  },
  {
   "cell_type": "code",
   "execution_count": 4,
   "id": "9e6f4d08",
   "metadata": {},
   "outputs": [
    {
     "name": "stdout",
     "output_type": "stream",
     "text": [
      "Pairs:              https://dexscreener.com/solana/3qtvasaehxgenmxjspfmttj1rwxz3fmonjsqj1fk4sqh\n",
      "Volume:             {'h24': 161.19, 'h6': 0, 'h1': 0, 'm5': 0}\n",
      "Liquidity:          {'usd': 5053.19, 'base': 82315747, 'quote': 13.9088}\n",
      "Pair Created At:    1706105746000\n"
     ]
    }
   ],
   "source": [
    "if pairs_data and pairs_data.get('pairs'):\n",
    "    pair = pairs_data['pairs'][0]\n",
    "\n",
    "    print(f\"{'Pairs:':<20}{pair['url']}\")\n",
    "    print(f\"{'Volume:':<20}{pair['volume']}\")\n",
    "    print(f\"{'Liquidity:':<20}{pair['liquidity']}\")\n",
    "    print(f\"{'Pair Created At:':<20}{pair['pairCreatedAt']}\")"
   ]
  }
 ],
 "metadata": {
  "kernelspec": {
   "display_name": "Python 3 (ipykernel)",
   "language": "python",
   "name": "python3"
  },
  "language_info": {
   "codemirror_mode": {
    "name": "ipython",
    "version": 3
   },
   "file_extension": ".py",
   "mimetype": "text/x-python",
   "name": "python",
   "nbconvert_exporter": "python",
   "pygments_lexer": "ipython3",
   "version": "3.11.5"
  }
 },
 "nbformat": 4,
 "nbformat_minor": 5
}
